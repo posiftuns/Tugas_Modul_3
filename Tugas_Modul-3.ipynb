{
 "cells": [
  {
   "cell_type": "markdown",
   "metadata": {},
   "source": [
    "***\n",
    "<h1 align=\"center\">Tugas 3</h1>\n",
    " \n",
    "***"
   ]
  },
  {
   "cell_type": "markdown",
   "metadata": {},
   "source": [
    "Nama&nbsp;&nbsp;: ... <br>\n",
    "NIM&emsp;&nbsp;: ...<br>\n",
    "Kelas&nbsp;&nbsp;&nbsp;: ..."
   ]
  },
  {
   "cell_type": "markdown",
   "metadata": {},
   "source": [
    "## Mengerjakan Tugas\n",
    "Pada *file* **Jupyter Notebook** ini, kalian akan mengerjakan tugas terkait Modul 3, yaitu Percabangan. Pengerjaan tugas dapat dilakukan dengan memperhatikan soal dan petunjuk yang sudah diberikan. Dimohon untuk membaca dan memperhatikan setiap kriteria soal supaya mampu mendapatkan hasil yang maksimal. Harap kerjakan tugas secara mandiri dan bersungguh-sungguh.\n",
    "\n",
    "Selamat mengerjakan!"
   ]
  },
  {
   "cell_type": "markdown",
   "metadata": {},
   "source": [
    "## SOAL 1\n"
   ]
  },
  {
   "cell_type": "markdown",
   "metadata": {},
   "source": [
    "Buatkan program sederhana berbahasa Python dengan kriteria dan mekanisme kerja seperti di bawah ini:\n",
    "- Program membantu proses perhitungan nilai mahasiswa dalam kegiatan ospek\n",
    "- Pengguna menginput biodata mahasiswa berupa nama, NIM, dan kelompok\n",
    "- Setelah pengguna menginput biodata, pengguna dapat menginput nilai\n",
    "- Kriteria penilaian berupa kedisiplinan, keaktifan, kreativitas, dan sikap (skala: 0-10, boleh desimal)\n",
    "- Program menghitung rata-rata nilai dari nilai yang sudah dimasukkan oleh pengguna\n",
    "- Berdasarkan rata-rata nilai, didapatkan indeks penilaian (Sangat Baik = 9.0-10.0 ; Baik = 8.0-8.9 ; Cukup = 7.0-7.9 ; Kurang = ≤7.0)\n",
    "- Program akan menampilkan rapor penilaian mahasiswa\n"
   ]
  },
  {
   "cell_type": "markdown",
   "metadata": {},
   "source": [
    "Contoh *output* yang diharapkan:"
   ]
  },
  {
   "cell_type": "raw",
   "metadata": {},
   "source": [
    "================================================== \n",
    "Nama Mahasiswa\t: Izzananda Adimas Faza \n",
    "NIM\t\t        : I0321051 \n",
    "Kelompok\t    : 10 \n",
    "-------------------------------------------------- \n",
    "Hasil Penilaian Mahasiswa \n",
    "-------------------------------------------------- \n",
    "Kedisiplinan\t: 8.0 \n",
    "Keaktifan\t    : 8.6 \n",
    "Kreativitas\t    : 8.5 \n",
    "Sikap\t\t    : 9.0 \n",
    "-------------------------------------------------- \n",
    "Rata-Rata\t    : 8.53 \n",
    "-------------------------------------------------- \n",
    "Keterangan      : Baik                          \n",
    "=================================================="
   ]
  },
  {
   "cell_type": "markdown",
   "metadata": {},
   "source": [
    "Jawaban:"
   ]
  },
  {
   "cell_type": "code",
   "execution_count": null,
   "metadata": {},
   "outputs": [],
   "source": [
    "# Buat kode program di sini\n",
    "\n",
    "..."
   ]
  },
  {
   "cell_type": "markdown",
   "metadata": {},
   "source": [
    "## SOAL 2\n"
   ]
  },
  {
   "cell_type": "markdown",
   "metadata": {},
   "source": [
    "Sebuah supermarket memberikan promo kepada pelanggannya berdasarkan syarat tertentu. Pelanggan akan mendapatkan diskon dengan ketentuan sebagai berikut:\n",
    "- Diskon **20%** untuk pelanggan *member* dengan pembelian lebih dari Rp500.000\n",
    "- Diskon **10%** untuk pelanggan biasa dengan pembelian lebih dari Rp500.000\n",
    "- Diskon **5%** untuk pelanggan *member* dengan pembelian kurang dari Rp500.000\n",
    "\n",
    "Jika pelanggan tidak memenuhi ketentuan di atas, pelanggan tersebut tidak mendapatkan diskon.\n",
    "\n",
    "Berdasarkan kondisi di atas, buatkan program sederhana berbahasa Python dengan mekanisme kerja seperti di bawah ini:\n",
    "- Pengguna (dalam konteks ini kasir) akan menginputkan nama pembeli\n",
    "- Pengguna juga menginputkan status member pembeli, apakah sudah menjadi member atau belum\n",
    "- Pengguna menginputkan total pembelian pelanggan tersebut\n",
    "- Program menghitung total pembelian dengan diskon sesuai ketentuan\n",
    "- Program mencetak nota pembelian sederhana yang menampilkan nama pembeli, status member, subtotal (total pembelian sebelum diberi harga diskon), besar diskon, dan total akhir"
   ]
  },
  {
   "cell_type": "markdown",
   "metadata": {},
   "source": [
    "Contoh *output* yang diharapkan:"
   ]
  },
  {
   "cell_type": "raw",
   "metadata": {},
   "source": [
    "===========================\n",
    "NOTA PEMBELIAN\n",
    "---------------------------\n",
    "Nama pembeli    : Akhdan\n",
    "Status member   : Member\n",
    "---------------------------\n",
    "Subtotal\t    : Rp550.000\n",
    "Diskon          : Rp110.000\n",
    "---------------------------\n",
    "Total           : Rp440.000\n",
    "==========================="
   ]
  },
  {
   "cell_type": "markdown",
   "metadata": {},
   "source": [
    "Jawaban:"
   ]
  },
  {
   "cell_type": "code",
   "execution_count": null,
   "metadata": {},
   "outputs": [],
   "source": [
    "# Buat kode program di sini\n",
    "\n",
    "..."
   ]
  },
  {
   "cell_type": "markdown",
   "metadata": {},
   "source": [
    "## SOAL 3\n"
   ]
  },
  {
   "cell_type": "markdown",
   "metadata": {},
   "source": [
    "Ayo kita buat *game* sederhana menggunakan bahasa Python dengan memanfaatkan konsep percabangan!\n",
    "\n",
    "Buatkan program *game* suit sederhana yang memiliki alur sebagai berikut:\n",
    "- Terdapat 3 jenis senjata, yaitu **batu**, **gunting**, dan **kertas**, yang dimasukkan ke dalam satu variabel *list*\n",
    "- Komputer akan memilih senjata secara acak tanpa mengetahui pilihan *player* (menggunakan fungsi `random.choice()`)\n",
    "- *Player* akan memilih senjatanya dengan menginput kode senjata yang diinginkan (A: Batu, B: Gunting, C: Kertas)\n",
    "- Program akan mencetak hasil akhir permainan berupa senjata yang dipilih komputer, senjata yang dipilih pengguna, dan pemenang dari permainan tersebut\n"
   ]
  },
  {
   "cell_type": "markdown",
   "metadata": {},
   "source": [
    "Contoh *output* yang diharapkan:"
   ]
  },
  {
   "cell_type": "raw",
   "metadata": {},
   "source": [
    "===========================\n",
    "HASIL PERMAINAN\n",
    "---------------------------\n",
    "Computer    : Gunting\n",
    "Player      : Batu\n",
    "---------------------------\n",
    "SELAMAT, KAMU MENANG!\n",
    "==========================="
   ]
  },
  {
   "cell_type": "markdown",
   "metadata": {},
   "source": [
    "Jawaban:"
   ]
  },
  {
   "cell_type": "code",
   "execution_count": null,
   "metadata": {},
   "outputs": [],
   "source": [
    "# Buat kode program di sini\n",
    "\n",
    "# Setup (JANGAN DIHAPUS!)\n",
    "import random\n",
    "senjata = [\"Batu\", \"Gunting\", \"Kertas\"]\n",
    "computer_choice = random.choice(senjata)\n",
    "\n",
    "# Program utama (tuliskan jawaban kalian di sini)\n",
    "..."
   ]
  },
  {
   "cell_type": "markdown",
   "metadata": {},
   "source": [
    "***\n",
    "<h1 align=\"center\">Selamat Mengerjakan!</h1>\n",
    " \n",
    "***"
   ]
  }
 ],
 "metadata": {
  "kernelspec": {
   "display_name": "Python 3",
   "language": "python",
   "name": "python3"
  },
  "language_info": {
   "codemirror_mode": {
    "name": "ipython",
    "version": 3
   },
   "file_extension": ".py",
   "mimetype": "text/x-python",
   "name": "python",
   "nbconvert_exporter": "python",
   "pygments_lexer": "ipython3",
   "version": "3.11.5"
  }
 },
 "nbformat": 4,
 "nbformat_minor": 2
}
